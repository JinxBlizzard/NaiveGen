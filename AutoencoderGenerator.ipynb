{
 "cells": [
  {
   "cell_type": "code",
   "execution_count": 3,
   "id": "79984655",
   "metadata": {},
   "outputs": [],
   "source": [
    "import tensorflow.keras as keras"
   ]
  },
  {
   "cell_type": "code",
   "execution_count": 8,
   "id": "d9551688",
   "metadata": {},
   "outputs": [],
   "source": [
    "from tensorflow.keras.layers import Dense, Input, Flatten, Reshape, LeakyReLU, Activation, Dropout, BatchNormalization\n",
    "from tensorflow.keras.models import Model, Sequential\n",
    "import matplotlib.pyplot as plt\n",
    "from IPython import display\n",
    "import numpy as np"
   ]
  },
  {
   "cell_type": "code",
   "execution_count": 11,
   "id": "58e7b312",
   "metadata": {},
   "outputs": [],
   "source": [
    "from tensorflow.keras.datasets import mnist"
   ]
  },
  {
   "cell_type": "code",
   "execution_count": 12,
   "id": "d7d89118",
   "metadata": {},
   "outputs": [
    {
     "name": "stdout",
     "output_type": "stream",
     "text": [
      "Downloading data from https://storage.googleapis.com/tensorflow/tf-keras-datasets/mnist.npz\n",
      "11490434/11490434 [==============================] - 22s 2us/step\n"
     ]
    }
   ],
   "source": [
    "(x_train, y_train), (x_test, y_test) = mnist.load_data()\n",
    "x_train = x_train/255.0\n",
    "x_test = x_test/255.0"
   ]
  },
  {
   "cell_type": "code",
   "execution_count": 18,
   "id": "26b95061",
   "metadata": {},
   "outputs": [
    {
     "data": {
      "image/png": "[encoded data removed]",
      "text/plain": [
       "<Figure size 640x480 with 1 Axes>"
      ]
     },
     "metadata": {},
     "output_type": "display_data"
    }
   ],
   "source": [
    "plt.imshow(x_train[1],cmap=\"gray\")\n",
    "plt.show()"
   ]
  },
  {
   "cell_type": "code",
   "execution_count": 19,
   "id": "36b32f47",
   "metadata": {},
   "outputs": [],
   "source": [
    "Latent_size = 32"
   ]
  },
  {
   "cell_type": "markdown",
   "id": "89556567",
   "metadata": {},
   "source": []
  },
  {
   "cell_type": "code",
   "execution_count": 20,
   "id": "3791e88a",
   "metadata": {},
   "outputs": [],
   "source": [
    "encoder = Sequential([\n",
    "    Flatten(input_shape=(28,28)),\n",
    "    Dense(512),\n",
    "    LeakyReLU(),\n",
    "    Dropout(0.5),\n",
    "    Dense(256),\n",
    "    LeakyReLU(),\n",
    "    Dropout(0.5),\n",
    "    Dense(128),\n",
    "    LeakyReLU(),\n",
    "    Dropout(0.5),\n",
    "    Dense(64),\n",
    "    LeakyReLU(),\n",
    "    Dropout(0.5),\n",
    "    Dense(Latent_size),\n",
    "    LeakyReLU()\n",
    "])"
   ]
  },
  {
   "cell_type": "code",
   "execution_count": 21,
   "id": "857dc63e",
   "metadata": {},
   "outputs": [],
   "source": [
    "decoder = Sequential([\n",
    "    Dense(64, input_shape = (Latent_size, )),\n",
    "    LeakyReLU(),\n",
    "    Dropout(0.5),\n",
    "    Dense(128),\n",
    "    LeakyReLU(),\n",
    "    Dropout(0.5),\n",
    "    Dense(256),\n",
    "    LeakyReLU(),\n",
    "    Dropout(0.5),\n",
    "    Dense(512),\n",
    "    LeakyReLU(),\n",
    "    Dropout(0.5),\n",
    "    Dense(784),\n",
    "    Activation('sigmoid'),\n",
    "    Reshape((28,28))\n",
    "])"
   ]
  },
  {
   "cell_type": "code",
   "execution_count": 22,
   "id": "0094a29b",
   "metadata": {},
   "outputs": [],
   "source": [
    "img = Input(shape = (28,28))"
   ]
  },
  {
   "cell_type": "code",
   "execution_count": 23,
   "id": "2b05dff3",
   "metadata": {},
   "outputs": [],
   "source": [
    "latent_vector = encoder(img)\n",
    "output = decoder(latent_vector)"
   ]
  },
  {
   "cell_type": "code",
   "execution_count": 24,
   "id": "2f383a53",
   "metadata": {},
   "outputs": [],
   "source": [
    "model = Model(inputs = img, outputs = output)\n",
    "model.compile('nadam', loss='binary_crossentropy', metrics=['accuracy'])"
   ]
  },
  {
   "cell_type": "code",
   "execution_count": 25,
   "id": "d929b0e9",
   "metadata": {},
   "outputs": [
    {
     "name": "stdout",
     "output_type": "stream",
     "text": [
      "1/1 [==============================] - 0s 15ms/step\n",
      "1/1 [==============================] - 0s 15ms/step\n",
      "1/1 [==============================] - 0s 16ms/step\n",
      "1/1 [==============================] - 0s 8ms/step\n",
      "1/1 [==============================] - 0s 19ms/step\n",
      "1/1 [==============================] - 0s 15ms/step\n",
      "1/1 [==============================] - 0s 16ms/step\n",
      "1/1 [==============================] - 0s 16ms/step\n",
      "1/1 [==============================] - 0s 16ms/step\n",
      "1/1 [==============================] - 0s 24ms/step\n",
      "1/1 [==============================] - 0s 20ms/step\n",
      "1/1 [==============================] - 0s 8ms/step\n",
      "1/1 [==============================] - 0s 8ms/step\n",
      "1/1 [==============================] - 0s 8ms/step\n",
      "1/1 [==============================] - 0s 8ms/step\n",
      "1/1 [==============================] - 0s 8ms/step\n"
     ]
    },
    {
     "data": {
      "image/png": "[encoded data removed]",
      "text/plain": [
       "<Figure size 640x480 with 16 Axes>"
      ]
     },
     "metadata": {},
     "output_type": "display_data"
    },
    {
     "name": "stdout",
     "output_type": "stream",
     "text": [
      "----------- EPOCH 59 -----------\n",
      "1875/1875 [==============================] - 30s 16ms/step - loss: 0.1912 - accuracy: 0.1534\n"
     ]
    }
   ],
   "source": [
    "EPOCHS = 60\n",
    "\n",
    "for epoch in range(EPOCHS):\n",
    "    fig, axs = plt.subplots(4, 4)\n",
    "    rand = x_test[np.random.randint(0, 10000, 16)].reshape((4, 4, 1, 28, 28))\n",
    "    \n",
    "    display.clear_output() # If you imported display from IPython\n",
    "    \n",
    "    for i in range(4):\n",
    "        for j in range(4):\n",
    "            axs[i, j].imshow(model.predict(rand[i, j])[0], cmap = \"gray\")\n",
    "            axs[i, j].axis(\"off\")\n",
    "    \n",
    "    plt.subplots_adjust(wspace = 0, hspace = 0)\n",
    "    plt.show()\n",
    "    print(\"-----------\", \"EPOCH\", epoch, \"-----------\")\n",
    "    model.fit(x_train, x_train)"
   ]
  },
  {
   "cell_type": "code",
   "execution_count": null,
   "id": "a723a123",
   "metadata": {},
   "outputs": [],
   "source": []
  }
 ],
 "metadata": {
  "kernelspec": {
   "display_name": "generative",
   "language": "python",
   "name": "generative"
  },
  "language_info": {
   "codemirror_mode": {
    "name": "ipython",
    "version": 3
   },
   "file_extension": ".py",
   "mimetype": "text/x-python",
   "name": "python",
   "nbconvert_exporter": "python",
   "pygments_lexer": "ipython3",
   "version": "3.11.3"
  }
 },
 "nbformat": 4,
 "nbformat_minor": 5
}
