{
 "cells": [
  {
   "cell_type": "code",
   "execution_count": 1,
   "id": "3a76aca2",
   "metadata": {},
   "outputs": [],
   "source": [
    "import numpy as np\n",
    "from keras.utils import to_categorical\n",
    "from keras.datasets import cifar10"
   ]
  },
  {
   "cell_type": "code",
   "execution_count": 2,
   "id": "a740cfa1",
   "metadata": {},
   "outputs": [
    {
     "name": "stdout",
     "output_type": "stream",
     "text": [
      "Downloading data from https://www.cs.toronto.edu/~kriz/cifar-10-python.tar.gz\n",
      "170498071/170498071 [==============================] - 54s 0us/step\n"
     ]
    }
   ],
   "source": [
    "(x_train, y_train),(x_test, y_test) = cifar10.load_data()"
   ]
  },
  {
   "cell_type": "code",
   "execution_count": 3,
   "id": "8463bb3a",
   "metadata": {},
   "outputs": [],
   "source": [
    "NUM_CLASSES = 10"
   ]
  },
  {
   "cell_type": "code",
   "execution_count": 5,
   "id": "2b1bebfe",
   "metadata": {},
   "outputs": [],
   "source": [
    "x_train = x_train.astype('float32')/255.0\n",
    "x_test = x_test.astype('float32')/255.0"
   ]
  },
  {
   "cell_type": "code",
   "execution_count": 6,
   "id": "4f96bd04",
   "metadata": {},
   "outputs": [],
   "source": [
    "y_train = to_categorical(y_train, NUM_CLASSES)\n",
    "y_test = to_categorical(y_test, NUM_CLASSES)"
   ]
  },
  {
   "cell_type": "code",
   "execution_count": 10,
   "id": "36136469",
   "metadata": {},
   "outputs": [],
   "source": [
    "## Model Creation Starts Here"
   ]
  },
  {
   "cell_type": "code",
   "execution_count": 11,
   "id": "57658052",
   "metadata": {},
   "outputs": [],
   "source": [
    "# Sequential Model\n",
    "from keras.models import Sequential\n",
    "from keras.layers import Flatten, Dense"
   ]
  },
  {
   "cell_type": "code",
   "execution_count": 13,
   "id": "1958206c",
   "metadata": {},
   "outputs": [],
   "source": [
    "modelSeq = Sequential([\n",
    "    Dense(200, activation='relu', input_shape=(32,32,3)),\n",
    "    Flatten(),\n",
    "    Dense(150, activation='relu'),\n",
    "    Dense(10, activation='softmax'),\n",
    "])"
   ]
  },
  {
   "cell_type": "code",
   "execution_count": 14,
   "id": "d58d7c7c",
   "metadata": {},
   "outputs": [],
   "source": [
    "# Functional API Model\n",
    "from keras.layers import Input,Flatten,Dense\n",
    "from keras.models import Model"
   ]
  },
  {
   "cell_type": "code",
   "execution_count": 20,
   "id": "9de47367",
   "metadata": {},
   "outputs": [],
   "source": [
    "input_layer = Input(shape=(32,32,3))\n",
    "x = Flatten()(input_layer)\n",
    "x = Dense(units=200, activation='relu')(x)\n",
    "x = Dense(units=150, activation='relu')(x)\n",
    "\n",
    "output_layer = Dense(units=10,activation='softmax')(x)\n",
    "\n",
    "modelFunc = Model(input_layer, output_layer)"
   ]
  },
  {
   "cell_type": "code",
   "execution_count": 21,
   "id": "9f048edd",
   "metadata": {},
   "outputs": [
    {
     "name": "stdout",
     "output_type": "stream",
     "text": [
      "Model: \"sequential\"\n",
      "_________________________________________________________________\n",
      " Layer (type)                Output Shape              Param #   \n",
      "=================================================================\n",
      " dense_2 (Dense)             (None, 32, 32, 200)       800       \n",
      "                                                                 \n",
      " flatten_1 (Flatten)         (None, 204800)            0         \n",
      "                                                                 \n",
      " dense_3 (Dense)             (None, 150)               30720150  \n",
      "                                                                 \n",
      " dense_4 (Dense)             (None, 10)                1510      \n",
      "                                                                 \n",
      "=================================================================\n",
      "Total params: 30,722,460\n",
      "Trainable params: 30,722,460\n",
      "Non-trainable params: 0\n",
      "_________________________________________________________________\n"
     ]
    }
   ],
   "source": [
    "modelSeq.summary()"
   ]
  },
  {
   "cell_type": "code",
   "execution_count": 22,
   "id": "5d173fdc",
   "metadata": {},
   "outputs": [
    {
     "name": "stdout",
     "output_type": "stream",
     "text": [
      "Model: \"model_2\"\n",
      "_________________________________________________________________\n",
      " Layer (type)                Output Shape              Param #   \n",
      "=================================================================\n",
      " input_5 (InputLayer)        [(None, 32, 32, 3)]       0         \n",
      "                                                                 \n",
      " flatten_6 (Flatten)         (None, 3072)              0         \n",
      "                                                                 \n",
      " dense_13 (Dense)            (None, 200)               614600    \n",
      "                                                                 \n",
      " dense_14 (Dense)            (None, 150)               30150     \n",
      "                                                                 \n",
      " dense_15 (Dense)            (None, 10)                1510      \n",
      "                                                                 \n",
      "=================================================================\n",
      "Total params: 646,260\n",
      "Trainable params: 646,260\n",
      "Non-trainable params: 0\n",
      "_________________________________________________________________\n"
     ]
    }
   ],
   "source": [
    "modelFunc.summary()"
   ]
  },
  {
   "cell_type": "code",
   "execution_count": 25,
   "id": "9603f5d6",
   "metadata": {},
   "outputs": [],
   "source": [
    "from keras.optimizers import Adam\n",
    "\n",
    "optm = Adam(learning_rate=0.0005)\n",
    "modelSeq.compile(loss='categorical_crossentropy', optimizer=optm, metrics=['accuracy'])"
   ]
  },
  {
   "cell_type": "code",
   "execution_count": 26,
   "id": "7cee3937",
   "metadata": {},
   "outputs": [
    {
     "name": "stdout",
     "output_type": "stream",
     "text": [
      "Epoch 1/10\n",
      "1563/1563 [==============================] - 180s 115ms/step - loss: 2.1691 - accuracy: 0.2039\n",
      "Epoch 2/10\n",
      "1563/1563 [==============================] - 176s 113ms/step - loss: 2.0294 - accuracy: 0.2739\n",
      "Epoch 3/10\n",
      "1563/1563 [==============================] - 176s 113ms/step - loss: 1.9679 - accuracy: 0.3030\n",
      "Epoch 4/10\n",
      "1563/1563 [==============================] - 176s 113ms/step - loss: 1.9060 - accuracy: 0.3276\n",
      "Epoch 5/10\n",
      "1563/1563 [==============================] - 176s 113ms/step - loss: 1.8473 - accuracy: 0.3457\n",
      "Epoch 6/10\n",
      "1563/1563 [==============================] - 176s 112ms/step - loss: 1.8001 - accuracy: 0.3627\n",
      "Epoch 7/10\n",
      "1563/1563 [==============================] - 177s 113ms/step - loss: 1.7675 - accuracy: 0.3718\n",
      "Epoch 8/10\n",
      "1563/1563 [==============================] - 176s 113ms/step - loss: 1.7399 - accuracy: 0.3818\n",
      "Epoch 9/10\n",
      "1563/1563 [==============================] - 178s 114ms/step - loss: 1.7186 - accuracy: 0.3915\n",
      "Epoch 10/10\n",
      "1563/1563 [==============================] - 180s 115ms/step - loss: 1.6996 - accuracy: 0.3977\n"
     ]
    },
    {
     "data": {
      "text/plain": [
       "<keras.callbacks.History at 0x1fcc6f0f190>"
      ]
     },
     "execution_count": 26,
     "metadata": {},
     "output_type": "execute_result"
    }
   ],
   "source": [
    "modelSeq.fit(x_train,\n",
    "            y_train,\n",
    "            batch_size=32,\n",
    "            epochs=10,\n",
    "            shuffle=True)"
   ]
  },
  {
   "cell_type": "code",
   "execution_count": 28,
   "id": "1e012c53",
   "metadata": {},
   "outputs": [
    {
     "name": "stdout",
     "output_type": "stream",
     "text": [
      "313/313 [==============================] - 7s 22ms/step - loss: 286.8768 - accuracy: 0.2758\n"
     ]
    },
    {
     "data": {
      "text/plain": [
       "[286.8768005371094, 0.2757999897003174]"
      ]
     },
     "execution_count": 28,
     "metadata": {},
     "output_type": "execute_result"
    }
   ],
   "source": [
    "modelSeq.evaluate(x_test, y_test)"
   ]
  },
  {
   "cell_type": "code",
   "execution_count": 29,
   "id": "2306638a",
   "metadata": {},
   "outputs": [
    {
     "name": "stdout",
     "output_type": "stream",
     "text": [
      "313/313 [==============================] - 7s 22ms/step\n"
     ]
    }
   ],
   "source": [
    "CLASSES = np.array(['airplane','automobile','bird','cat','deer','dog','frog','horse','ship','truck'])\n",
    "preds = modelSeq.predict(x_test)\n",
    "preds_single = CLASSES[np.argmax(preds, axis=-1)]\n",
    "preds_single = CLASSES[np.argmax(preds, axis=-1)]"
   ]
  },
  {
   "cell_type": "code",
   "execution_count": 37,
   "id": "a6db077f",
   "metadata": {},
   "outputs": [
    {
     "data": {
      "image/png": "[encoded data removed]",
      "text/plain": [
       "<Figure size 1500x600 with 10 Axes>"
      ]
     },
     "metadata": {},
     "output_type": "display_data"
    }
   ],
   "source": [
    "import matplotlib.pyplot as plt\n",
    "\n",
    "n_to_show = 10\n",
    "indices = np.random.choice(range(len(x_test)), n_to_show)\n",
    "\n",
    "fig = plt.figure(figsize=(15,6))\n",
    "# fig.subplots_adjust(hspace=0.4, wspace=0.4)\n",
    "\n",
    "for i,idx in enumerate(indices):\n",
    "    img = x_test[idx]\n",
    "    ax = fig.add_subplot(1,n_to_show, i+1)\n",
    "    ax.axis('off')\n",
    "    ax.text(0.5, -0.35, 'pred = ' + str(preds_single[idx]), fontsize=10, ha='center', transform=ax.transAxes)"
   ]
  },
  {
   "cell_type": "code",
   "execution_count": null,
   "id": "4880db05",
   "metadata": {},
   "outputs": [],
   "source": []
  }
 ],
 "metadata": {
  "kernelspec": {
   "display_name": "generative",
   "language": "python",
   "name": "generative"
  },
  "language_info": {
   "codemirror_mode": {
    "name": "ipython",
    "version": 3
   },
   "file_extension": ".py",
   "mimetype": "text/x-python",
   "name": "python",
   "nbconvert_exporter": "python",
   "pygments_lexer": "ipython3",
   "version": "3.11.3"
  }
 },
 "nbformat": 4,
 "nbformat_minor": 5
}
